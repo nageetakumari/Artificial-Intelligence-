{
 "cells": [
  {
   "cell_type": "code",
   "execution_count": 116,
   "metadata": {},
   "outputs": [
    {
     "name": "stderr",
     "output_type": "stream",
     "text": [
      "/home/support/anaconda3/lib/python3.7/importlib/_bootstrap.py:219: RuntimeWarning: numpy.ufunc size changed, may indicate binary incompatibility. Expected 192 from C header, got 216 from PyObject\n",
      "  return f(*args, **kwds)\n",
      "/home/support/anaconda3/lib/python3.7/importlib/_bootstrap.py:219: RuntimeWarning: numpy.ufunc size changed, may indicate binary incompatibility. Expected 192 from C header, got 216 from PyObject\n",
      "  return f(*args, **kwds)\n",
      "/home/support/anaconda3/lib/python3.7/importlib/_bootstrap.py:219: RuntimeWarning: numpy.ufunc size changed, may indicate binary incompatibility. Expected 192 from C header, got 216 from PyObject\n",
      "  return f(*args, **kwds)\n"
     ]
    }
   ],
   "source": [
    "from sklearn.feature_extraction.text import CountVectorizer\n",
    "from sklearn.naive_bayes import MultinomialNB\n",
    "from sklearn.metrics import confusion_matrix\n",
    "from sklearn.model_selection import train_test_split\n",
    "from sklearn.metrics import classification_report\n",
    "from  sklearn.ensemble import RandomForestClassifier"
   ]
  },
  {
   "cell_type": "code",
   "execution_count": 46,
   "metadata": {},
   "outputs": [
    {
     "name": "stdout",
     "output_type": "stream",
     "text": [
      "980\n",
      "P\n"
     ]
    }
   ],
   "source": [
    "documents = []\n",
    "y    = []\n",
    "with open('data.tsv', 'r', encoding='utf-8') as file:\n",
    "    for i,line in enumerate(file):\n",
    "        if i > 0:\n",
    "            temp = line.strip().split('\\t')\n",
    "            if temp[1] != 'O':\n",
    "                documents.append(temp[0])\n",
    "                y.append(temp[1])\n",
    "print(len(documents))\n",
    "print(y[0])"
   ]
  },
  {
   "cell_type": "raw",
   "metadata": {},
   "source": [
    "sent1 = 'I love maths maths maths maths '\n",
    "sent2 = 'I love chocholate'\n",
    "sent3 = 'You love maths'\n",
    "\n",
    "1_1_vocab = [I, love, maths, chocholate, you]\n",
    "2_2_vocab = [I_love, love_maths, maths_maths, love_chocholate, you_love]\n",
    "3_3_vocab = [I_love_maths, love_maths_maths, maths_maths_maths, I_love_chocholate, you_love_maths]\n",
    "1_2_vocab = [I, love, maths, chocholate, you, I_love, love_maths, maths_maths, love_chocholate, you_love]\n",
    "index = [0, 1,    2,     3,           4 ]\n",
    "[\n",
    "    [1, 1, 4, 0, 0],\n",
    "    [1, 1, 0, 1, 0],  \n",
    "    [0, 1, 0, 0, 1],\n",
    "]"
   ]
  },
  {
   "cell_type": "code",
   "execution_count": 140,
   "metadata": {},
   "outputs": [],
   "source": [
    "vectorizer = CountVectorizer(ngram_range=(1,5))"
   ]
  },
  {
   "cell_type": "code",
   "execution_count": 141,
   "metadata": {},
   "outputs": [
    {
     "name": "stdout",
     "output_type": "stream",
     "text": [
      "  (0, 35239)\t1\n",
      "  (0, 43254)\t1\n",
      "  (0, 18279)\t1\n",
      "  (0, 11938)\t1\n",
      "  (0, 6959)\t1\n",
      "  (0, 46446)\t1\n",
      "  (0, 6474)\t1\n",
      "  (0, 46398)\t1\n",
      "  (0, 52364)\t1\n",
      "  (0, 30749)\t1\n",
      "  (0, 8405)\t1\n",
      "  (0, 36892)\t1\n",
      "  (0, 52452)\t1\n",
      "  (0, 39640)\t1\n",
      "  (0, 41127)\t1\n",
      "  (0, 20365)\t1\n",
      "  (0, 6508)\t1\n",
      "  (0, 46414)\t1\n",
      "  (0, 35790)\t1\n",
      "  (0, 52375)\t1\n",
      "  (0, 30750)\t1\n",
      "  (0, 8406)\t1\n",
      "  (0, 18313)\t1\n",
      "  (0, 36939)\t1\n",
      "  (0, 12414)\t1\n",
      "  :\t:\n",
      "  (0, 6510)\t1\n",
      "  (0, 46416)\t1\n",
      "  (0, 35795)\t1\n",
      "  (0, 52377)\t1\n",
      "  (0, 30752)\t1\n",
      "  (0, 8408)\t1\n",
      "  (0, 18315)\t1\n",
      "  (0, 36947)\t1\n",
      "  (0, 12419)\t1\n",
      "  (0, 52487)\t1\n",
      "  (0, 39643)\t1\n",
      "  (0, 43290)\t1\n",
      "  (0, 6982)\t1\n",
      "  (0, 6511)\t1\n",
      "  (0, 46417)\t1\n",
      "  (0, 35796)\t1\n",
      "  (0, 52378)\t1\n",
      "  (0, 30753)\t1\n",
      "  (0, 8409)\t1\n",
      "  (0, 18316)\t1\n",
      "  (0, 36948)\t1\n",
      "  (0, 12420)\t1\n",
      "  (0, 52488)\t1\n",
      "  (0, 39644)\t1\n",
      "  (0, 43291)\t1\n"
     ]
    }
   ],
   "source": [
    "X = vectorizer.fit_transform(documents)\n",
    "print(X[15])"
   ]
  },
  {
   "cell_type": "code",
   "execution_count": 158,
   "metadata": {},
   "outputs": [],
   "source": [
    "X_train, X_test, y_train, y_test = train_test_split(X, y, test_size=.20, random_state=42, stratify=y)"
   ]
  },
  {
   "cell_type": "code",
   "execution_count": 159,
   "metadata": {},
   "outputs": [],
   "source": [
    "classifier = MultinomialNB()\n",
    "classifier2 = RandomForestClassifier(n_estimators=300)"
   ]
  },
  {
   "cell_type": "code",
   "execution_count": 160,
   "metadata": {},
   "outputs": [],
   "source": [
    "clf = classifier.fit(X_train, y_train)"
   ]
  },
  {
   "cell_type": "code",
   "execution_count": 161,
   "metadata": {},
   "outputs": [],
   "source": [
    "pred = clf.predict(X_test)"
   ]
  },
  {
   "cell_type": "code",
   "execution_count": 162,
   "metadata": {},
   "outputs": [
    {
     "name": "stdout",
     "output_type": "stream",
     "text": [
      "[[46 54]\n",
      " [28 68]]\n",
      "46 54 28 68\n"
     ]
    }
   ],
   "source": [
    "print(confusion_matrix(y_test, pred))\n",
    "tn, fp, fn, tp = confusion_matrix(y_test, pred).ravel()\n",
    "print(tn, fp, fn, tp)"
   ]
  },
  {
   "cell_type": "code",
   "execution_count": 163,
   "metadata": {},
   "outputs": [
    {
     "name": "stdout",
     "output_type": "stream",
     "text": [
      "              precision    recall  f1-score   support\n",
      "\n",
      "           N       0.62      0.46      0.53       100\n",
      "           P       0.56      0.71      0.62        96\n",
      "\n",
      "    accuracy                           0.58       196\n",
      "   macro avg       0.59      0.58      0.58       196\n",
      "weighted avg       0.59      0.58      0.58       196\n",
      "\n"
     ]
    }
   ],
   "source": [
    "print(classification_report(y_test, pred))"
   ]
  },
  {
   "cell_type": "code",
   "execution_count": null,
   "metadata": {},
   "outputs": [],
   "source": []
  },
  {
   "cell_type": "code",
   "execution_count": null,
   "metadata": {},
   "outputs": [],
   "source": []
  }
 ],
 "metadata": {
  "kernelspec": {
   "display_name": "Python 3",
   "language": "python",
   "name": "python3"
  },
  "language_info": {
   "codemirror_mode": {
    "name": "ipython",
    "version": 3
   },
   "file_extension": ".py",
   "mimetype": "text/x-python",
   "name": "python",
   "nbconvert_exporter": "python",
   "pygments_lexer": "ipython3",
   "version": "3.7.3"
  }
 },
 "nbformat": 4,
 "nbformat_minor": 2
}
