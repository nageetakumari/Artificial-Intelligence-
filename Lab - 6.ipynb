{
 "cells": [
  {
   "cell_type": "code",
   "execution_count": 1,
   "metadata": {},
   "outputs": [],
   "source": [
    "import json"
   ]
  },
  {
   "cell_type": "code",
   "execution_count": 18,
   "metadata": {},
   "outputs": [],
   "source": [
    "with open('خالق.json', 'r', encoding='utf-8') as file:\n",
    "    data = json.load(file)\n",
    "    text = { x['text'] for x in data }\n",
    "text = list(text)\n",
    "del data"
   ]
  },
  {
   "cell_type": "code",
   "execution_count": 19,
   "metadata": {},
   "outputs": [],
   "source": [
    "positive = set()\n",
    "negative = set()\n",
    "\n",
    "with open('negative_words_ur.txt', 'r', encoding='utf-8') as file:\n",
    "    for line in file:\n",
    "        negative.add(line.strip())\n",
    "        \n",
    "with open('positive_words_ur.txt', 'r', encoding='utf-8') as file:\n",
    "    for line in file:\n",
    "        positive.add(line.strip())"
   ]
  },
  {
   "cell_type": "code",
   "execution_count": 25,
   "metadata": {},
   "outputs": [
    {
     "name": "stdout",
     "output_type": "stream",
     "text": [
      "['نا', 'نہ', 'بنا', 'بغیر', 'بے', 'لا', 'بد', 'غیر', 'اَن', 'نہیں', 'بد', 'مت']\n"
     ]
    }
   ],
   "source": [
    "negation = 'نا۔نہ۔بنا۔بغیر۔بے۔لا۔بد۔غیر۔اَن۔نہیں۔بد۔مت'.split('۔')\n",
    "print(negation)"
   ]
  },
  {
   "cell_type": "code",
   "execution_count": 26,
   "metadata": {},
   "outputs": [
    {
     "name": "stdout",
     "output_type": "stream",
     "text": [
      "مجھے  یہ کتاب پسند ہے  positive\n",
      "------------------------------------------------------------\n",
      "مجھے  یہ کتاب نہیں  پسند negative\n",
      "------------------------------------------------------------\n"
     ]
    }
   ],
   "source": [
    "for i in ['مجھے یہ کتاب پسند ہے', 'مجھے یہ کتاب نہیں پسند']:\n",
    "    sentence = i.replace('ے', 'ے ').replace('ں', 'ں ')\n",
    "    tokens = sentence.split()\n",
    "    pos_score = 0\n",
    "    neg_score = 0\n",
    "    for j,t in enumerate(tokens):\n",
    "        if t in positive:\n",
    "            if tokens[j-1] in negation:\n",
    "                neg_score += 1\n",
    "            else:\n",
    "                pos_score += 1\n",
    "        \n",
    "        if t in negative:\n",
    "            if tokens[j-1] in negation:\n",
    "                pos_score += 1\n",
    "            else:\n",
    "                neg_score += 1\n",
    "            \n",
    "    if pos_score >= neg_score:\n",
    "        print(sentence.replace('<lb>', '\\n'), 'positive')\n",
    "        print('----' * 15)\n",
    "    else:\n",
    "        print(sentence.replace('<lb>', '\\n'), 'negative')\n",
    "        print('----' * 15)"
   ]
  },
  {
   "cell_type": "code",
   "execution_count": null,
   "metadata": {},
   "outputs": [],
   "source": []
  }
 ],
 "metadata": {
  "kernelspec": {
   "display_name": "Python 3",
   "language": "python",
   "name": "python3"
  },
  "language_info": {
   "codemirror_mode": {
    "name": "ipython",
    "version": 3
   },
   "file_extension": ".py",
   "mimetype": "text/x-python",
   "name": "python",
   "nbconvert_exporter": "python",
   "pygments_lexer": "ipython3",
   "version": "3.7.3"
  }
 },
 "nbformat": 4,
 "nbformat_minor": 2
}
