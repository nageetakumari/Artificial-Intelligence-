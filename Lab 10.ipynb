{
 "cells": [
  {
   "cell_type": "code",
   "execution_count": 6,
   "metadata": {},
   "outputs": [],
   "source": [
    "import numpy as np\n",
    "import pandas as pd\n",
    "from sklearn.naive_bayes import MultinomialNB, GaussianNB\n",
    "from sklearn.model_selection import train_test_split\n",
    "from sklearn.metrics import classification_report, confusion_matrix\n",
    "from matplotlib import pyplot as plt\n",
    "from sklearn.cluster import KMeans\n",
    "from sklearn.manifold import TSNE"
   ]
  },
  {
   "cell_type": "code",
   "execution_count": 10,
   "metadata": {},
   "outputs": [],
   "source": [
    "data = pd.read_csv('iris.data', sep=',', names=['sep_len', 'sep_wid', 'pet_len', 'pet_wid', 'label'])\n",
    "Y = data.label\n",
    "X = data.drop('label', axis=1)"
   ]
  },
  {
   "cell_type": "code",
   "execution_count": 11,
   "metadata": {},
   "outputs": [
    {
     "name": "stdout",
     "output_type": "stream",
     "text": [
      "(150, 4)\n"
     ]
    }
   ],
   "source": [
    "X = np.array(X)\n",
    "print(X.shape)"
   ]
  },
  {
   "cell_type": "code",
   "execution_count": 15,
   "metadata": {},
   "outputs": [
    {
     "data": {
      "text/plain": [
       "array([[-23.962664  ,  -8.322244  ],\n",
       "       [-21.338718  ,  -7.984995  ],\n",
       "       [-21.25526   ,  -9.144481  ],\n",
       "       [-20.947952  ,  -8.94489   ],\n",
       "       [-23.986414  ,  -7.981166  ],\n",
       "       [-25.871363  ,  -7.7890058 ],\n",
       "       [-21.542107  ,  -9.735981  ],\n",
       "       [-23.205194  ,  -8.530107  ],\n",
       "       [-20.156618  ,  -8.854274  ],\n",
       "       [-21.81018   ,  -8.298414  ],\n",
       "       [-25.457508  ,  -8.478142  ],\n",
       "       [-22.536066  ,  -9.143386  ],\n",
       "       [-21.044268  ,  -8.268642  ],\n",
       "       [-19.97424   ,  -9.42196   ],\n",
       "       [-26.756569  ,  -8.457903  ],\n",
       "       [-26.899738  ,  -7.907395  ],\n",
       "       [-26.034914  ,  -8.174666  ],\n",
       "       [-23.991175  ,  -8.273851  ],\n",
       "       [-26.223536  ,  -8.6841345 ],\n",
       "       [-25.00808   ,  -7.72136   ],\n",
       "       [-24.84208   ,  -9.279528  ],\n",
       "       [-24.674099  ,  -7.794163  ],\n",
       "       [-21.361706  , -10.469401  ],\n",
       "       [-23.655191  ,  -9.422591  ],\n",
       "       [-22.719074  ,  -9.719926  ],\n",
       "       [-21.688292  ,  -7.746318  ],\n",
       "       [-23.429111  ,  -8.954096  ],\n",
       "       [-24.410246  ,  -8.583791  ],\n",
       "       [-24.07153   ,  -8.714855  ],\n",
       "       [-21.769802  ,  -9.127622  ],\n",
       "       [-21.711946  ,  -8.725593  ],\n",
       "       [-24.802156  ,  -9.135461  ],\n",
       "       [-26.025064  ,  -7.430795  ],\n",
       "       [-26.583118  ,  -7.851083  ],\n",
       "       [-21.810316  ,  -8.298351  ],\n",
       "       [-22.386444  ,  -7.8009205 ],\n",
       "       [-25.399355  ,  -9.0885315 ],\n",
       "       [-21.810179  ,  -8.298414  ],\n",
       "       [-20.249783  ,  -9.159472  ],\n",
       "       [-23.608412  ,  -8.578545  ],\n",
       "       [-23.537167  ,  -7.993578  ],\n",
       "       [-19.721363  ,  -8.199453  ],\n",
       "       [-20.574497  ,  -9.62664   ],\n",
       "       [-23.89419   ,  -7.3706393 ],\n",
       "       [-25.176956  ,  -7.0524964 ],\n",
       "       [-21.012403  ,  -8.283016  ],\n",
       "       [-25.093748  ,  -7.650556  ],\n",
       "       [-21.102991  ,  -9.286273  ],\n",
       "       [-25.202608  ,  -8.305595  ],\n",
       "       [-22.820637  ,  -8.336892  ],\n",
       "       [  6.155875  ,   9.340932  ],\n",
       "       [  7.0535364 ,   7.8394494 ],\n",
       "       [  5.6613693 ,   9.190355  ],\n",
       "       [ 11.360713  ,   5.117019  ],\n",
       "       [  6.6916146 ,   8.154851  ],\n",
       "       [  9.15726   ,   5.59056   ],\n",
       "       [  6.5890846 ,   7.2804465 ],\n",
       "       [ 12.852657  ,   4.9307995 ],\n",
       "       [  6.8468213 ,   8.552121  ],\n",
       "       [ 11.193192  ,   4.6700916 ],\n",
       "       [ 12.637336  ,   4.743882  ],\n",
       "       [  9.135424  ,   6.2777286 ],\n",
       "       [ 11.377344  ,   6.850625  ],\n",
       "       [  7.2829785 ,   6.839075  ],\n",
       "       [ 11.711252  ,   6.063319  ],\n",
       "       [  6.995225  ,   8.816673  ],\n",
       "       [  8.849844  ,   5.3104715 ],\n",
       "       [ 10.681823  ,   6.263056  ],\n",
       "       [  9.076914  ,   8.253671  ],\n",
       "       [ 11.386526  ,   5.670797  ],\n",
       "       [  6.1200128 ,   5.9703403 ],\n",
       "       [  9.982027  ,   6.8371153 ],\n",
       "       [  5.33048   ,   7.3219833 ],\n",
       "       [  7.709554  ,   6.97962   ],\n",
       "       [  7.887544  ,   7.9751763 ],\n",
       "       [  7.1901054 ,   8.521965  ],\n",
       "       [  6.0299845 ,   8.8835745 ],\n",
       "       [  4.763891  ,   8.801349  ],\n",
       "       [  7.984349  ,   6.4941072 ],\n",
       "       [ 12.137636  ,   5.938921  ],\n",
       "       [ 11.755352  ,   5.391215  ],\n",
       "       [ 12.017621  ,   5.457959  ],\n",
       "       [ 10.941772  ,   6.1173296 ],\n",
       "       [  4.675547  ,   6.3223147 ],\n",
       "       [  9.133007  ,   4.9146857 ],\n",
       "       [  7.1947207 ,   6.076753  ],\n",
       "       [  6.2569447 ,   8.796298  ],\n",
       "       [  9.1089325 ,   8.178528  ],\n",
       "       [ 10.015736  ,   5.5957017 ],\n",
       "       [ 11.080957  ,   5.2395234 ],\n",
       "       [ 10.152732  ,   4.982843  ],\n",
       "       [  7.5259423 ,   6.844784  ],\n",
       "       [ 10.871034  ,   6.0929375 ],\n",
       "       [ 12.807452  ,   4.965717  ],\n",
       "       [ 10.32561   ,   5.384329  ],\n",
       "       [  9.79663   ,   5.8706036 ],\n",
       "       [  9.829882  ,   5.803933  ],\n",
       "       [  8.44789   ,   7.2168155 ],\n",
       "       [ 13.003918  ,   5.060963  ],\n",
       "       [ 10.291635  ,   5.823998  ],\n",
       "       [ -0.09038761,   7.796385  ],\n",
       "       [  4.4697003 ,   5.540592  ],\n",
       "       [ -0.07803898,   9.767222  ],\n",
       "       [  2.2615075 ,   7.583837  ],\n",
       "       [  0.78336424,   8.317268  ],\n",
       "       [ -1.3351566 ,  10.52677   ],\n",
       "       [  9.944973  ,   3.917497  ],\n",
       "       [ -0.6482908 ,  10.556509  ],\n",
       "       [  1.283757  ,  10.053591  ],\n",
       "       [ -1.0213852 ,   9.2458105 ],\n",
       "       [  2.7263205 ,   8.613099  ],\n",
       "       [  3.0334628 ,   7.650555  ],\n",
       "       [  1.1569271 ,   9.000125  ],\n",
       "       [  4.4614434 ,   5.1188865 ],\n",
       "       [  3.7891922 ,   5.138044  ],\n",
       "       [  1.1748726 ,   7.710206  ],\n",
       "       [  2.1676984 ,   8.048393  ],\n",
       "       [ -1.7954135 ,   9.924252  ],\n",
       "       [ -1.5007582 ,  10.886217  ],\n",
       "       [  5.5787272 ,   5.117945  ],\n",
       "       [  0.23986688,   9.064258  ],\n",
       "       [  4.670404  ,   5.051859  ],\n",
       "       [ -1.362299  ,  10.745145  ],\n",
       "       [  4.8659124 ,   7.0317063 ],\n",
       "       [  0.48024023,   8.767588  ],\n",
       "       [ -0.2803879 ,  10.167521  ],\n",
       "       [  5.344574  ,   6.7532887 ],\n",
       "       [  5.450961  ,   6.376961  ],\n",
       "       [  1.6454047 ,   8.027809  ],\n",
       "       [  0.08133943,  10.4288025 ],\n",
       "       [ -0.55032307,  10.516819  ],\n",
       "       [ -1.7775357 ,   9.92247   ],\n",
       "       [  1.4607362 ,   8.080669  ],\n",
       "       [  4.7731056 ,   7.357333  ],\n",
       "       [  3.2348177 ,   6.6833587 ],\n",
       "       [ -1.099678  ,  10.222407  ],\n",
       "       [  0.41947803,   7.582556  ],\n",
       "       [  2.1855114 ,   7.8903084 ],\n",
       "       [  5.7661066 ,   6.1880836 ],\n",
       "       [  1.1897548 ,   9.181134  ],\n",
       "       [  0.61236346,   8.584424  ],\n",
       "       [  1.8446827 ,   9.283494  ],\n",
       "       [  4.47011   ,   5.5397587 ],\n",
       "       [ -0.04224688,   8.926749  ],\n",
       "       [  0.04561044,   8.39474   ],\n",
       "       [  1.7807122 ,   8.933833  ],\n",
       "       [  4.3425245 ,   6.939694  ],\n",
       "       [  2.5714383 ,   8.397385  ],\n",
       "       [  0.7896873 ,   7.276265  ],\n",
       "       [  4.9000487 ,   5.9067564 ]], dtype=float32)"
      ]
     },
     "execution_count": 15,
     "metadata": {},
     "output_type": "execute_result"
    }
   ],
   "source": [
    "X_embedded = TSNE(n_components=2).fit_transform(X)\n",
    "X_embedded"
   ]
  },
  {
   "cell_type": "code",
   "execution_count": 16,
   "metadata": {},
   "outputs": [
    {
     "data": {
      "text/plain": [
       "<matplotlib.collections.PathCollection at 0x7f63148fe898>"
      ]
     },
     "execution_count": 16,
     "metadata": {},
     "output_type": "execute_result"
    },
    {
     "data": {
      "image/png": "[encoded data removed]",
      "text/plain": [
       "<Figure size 432x288 with 1 Axes>"
      ]
     },
     "metadata": {
      "needs_background": "light"
     },
     "output_type": "display_data"
    }
   ],
   "source": [
    "plt.scatter(X_embedded[:,0], X_embedded[:,1])"
   ]
  },
  {
   "cell_type": "code",
   "execution_count": null,
   "metadata": {},
   "outputs": [],
   "source": []
  }
 ],
 "metadata": {
  "kernelspec": {
   "display_name": "Python 3",
   "language": "python",
   "name": "python3"
  },
  "language_info": {
   "codemirror_mode": {
    "name": "ipython",
    "version": 3
   },
   "file_extension": ".py",
   "mimetype": "text/x-python",
   "name": "python",
   "nbconvert_exporter": "python",
   "pygments_lexer": "ipython3",
   "version": "3.7.3"
  }
 },
 "nbformat": 4,
 "nbformat_minor": 2
}
