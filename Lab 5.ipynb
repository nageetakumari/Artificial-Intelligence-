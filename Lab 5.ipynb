{
 "cells": [
  {
   "cell_type": "code",
   "execution_count": 11,
   "metadata": {},
   "outputs": [],
   "source": [
    "import json\n",
    "\n",
    "# dump() dumps()\n",
    "# load() loads()"
   ]
  },
  {
   "cell_type": "code",
   "execution_count": 25,
   "metadata": {},
   "outputs": [
    {
     "name": "stdout",
     "output_type": "stream",
     "text": [
      "528 819\n"
     ]
    }
   ],
   "source": [
    "positive = set()\n",
    "with open('positive_words_ur.txt', 'r', encoding='utf-8') as file:\n",
    "    for line in file:\n",
    "        positive.add(line.strip())\n",
    "        \n",
    "negative = set()\n",
    "with open('negative_words_ur.txt', 'r', encoding='utf-8') as file:\n",
    "    for line in file:\n",
    "        negative.add(line.strip())\n",
    "\n",
    "print(len(positive), len(negative))"
   ]
  },
  {
   "cell_type": "code",
   "execution_count": 27,
   "metadata": {},
   "outputs": [],
   "source": [
    "with open('شغل.json', 'r', encoding='utf-8') as file:\n",
    "    data = json.load(file)"
   ]
  },
  {
   "cell_type": "markdown",
   "metadata": {},
   "source": [
    "with open('شغل.json', 'w', encoding='utf-8') as file:\n",
    "    json.dump(data, file, ensure_ascii=False, indent=3)"
   ]
  },
  {
   "cell_type": "code",
   "execution_count": 28,
   "metadata": {},
   "outputs": [
    {
     "name": "stdout",
     "output_type": "stream",
     "text": [
      "247\n"
     ]
    }
   ],
   "source": [
    "text = []\n",
    "for d in data:\n",
    "    text.append(d['text'].strip())\n",
    "print(len(text))\n",
    "#del data"
   ]
  },
  {
   "cell_type": "code",
   "execution_count": 32,
   "metadata": {},
   "outputs": [
    {
     "name": "stdout",
     "output_type": "stream",
     "text": [
      "------------------------------\n",
      "ماليـﮯ شغـل بالحـب دامـﮧ مذلـﮧ positive\n",
      "------------------------------\n",
      "خخخخخخخخ \n",
      " عنـ جد شغل منآآظر  \n",
      "  \n",
      " عٌہمَہرّوّوْوّشے positive\n",
      "------------------------------\n",
      "[#urdu] یہی مصلحت کا تقاضا ہے عرشی کہ لب بھینچ لو یا وطن چھوڑ دو اب / تمہیں قتل کرنا تو اک شغل ٹھرا، ہے جاری یہ مشق جفا دیر سے negative\n",
      "------------------------------\n",
      "آج مُحرم کی پہلی تاریخ ہے۔ شغل ميله کی طرف سے سب کو اسلامی سال مبارک ہو۔ \n",
      " اللہ \n",
      " کرے کہ یہ سال ہمارے لیے گناہوں سے بچنے اور نیک اعم positive\n",
      "------------------------------\n",
      "افغان ہلاکتیں: امریکی سپاہی کو کورٹ مارشل کا سامنا کرنا پڑے گا: وہ اُن تین امریکی فوجیوں میں سے ایک ہیں جن پر  شغل... negative\n",
      "------------------------------\n",
      "چلو چھوڑو!\r",
      " \n",
      " محبت جھوٹ ہے\r",
      " \n",
      " عہدِ وفا اِک شغَل ہے بے کار لوگوں کا\r",
      " \n",
      " ’’طَلَب ‘‘ سوکھے ہوئے پتوں کا بے رونق جزیرہ ہے\r",
      " \n",
      " ’’... negative\n",
      "------------------------------\n",
      "[Charger] لاركبته شغل الفنآن عيضـﮧ ~.. positive\n",
      "------------------------------\n",
      "10 بےـٍّسُ ‏​ع'ــندي شغل الصببح بطلع بدري :( positive\n",
      "------------------------------\n",
      "مالــــــج جّ جّ جّ شغـــل فيهم _ ے Aℓ-DOSARI مكانج بالقلب وربي ماتغيره سنين  ♥ positive\n",
      "------------------------------\n",
      "عہدِ وفا اِک شغَل ہے بے کار لوگوں کا \n",
      " ’’طَلَب ‘‘ سوکھے ہوئے پتوں کا بے رونق جزیرہ ہے \n",
      " ’’ خلش ‘‘ دیمک زدہ اوراق پر... negative\n",
      "------------------------------\n",
      "‏​‏​‏​‏​‏​‏​‏​‏​‏​‏​‏​ﺷاﻋر وﻏرامه ﻣا ﯾﺣب ﺎﻟﺳﯾاﺳـہ ..ﺷاﻋر وﺄﺣادﯾﺛـہ ﺣدﯾﺛـہ وﺟﻧﺳي ..ﺄﮬم ﺣاﺟـہ النوم معك وﺎﻟوﻧاﺳـہ..ﺗﺑﻏﯾن ﺷﻏل ﺎﻟﺑدو ولا ﺎﻟﻓرﻧﺳي positive\n",
      "------------------------------\n",
      "ھہہھہہھہہھہہ یخووک ماکو شغل شسویے باللہ ...?! positive\n",
      "------------------------------\n",
      "ان شاء اللّہ ، ماحب شغل الحريم اصلا -_-\" positive\n",
      "------------------------------\n",
      "عہدِ وفا اِک شَغل ہے بے کار لوگوں کا: *چلو چھوڑو!  \n",
      " محبت جھوٹ ہے  \n",
      " عہدِ وفا اِک شغَل ہے بے کار لوگوں کا  \n",
      " ’’طَلَب ‘... negative\n",
      "------------------------------\n",
      "تقرير المنار حول الفلم الہَندي لشوزن الشاعر .. شغل عدل           -... positive\n",
      "------------------------------\n",
      "لوگوں نے اِسی شغل میں اِک عمر گنوا دی \n",
      "  \n",
      " ہونٹوں نے تو رکھا ہے بھرم میرے جنوں کا \n",
      " آنکھوں نے مگر ضبط کی دیوار گِرا دی... positive\n",
      "------------------------------\n",
      "خُوشبو سے مہکی ہوئی ہر شام جلا دی \n",
      " لوگوں نے اِسی شغل میں اِک عمر گنوا دی \n",
      "  \n",
      " ہونٹوں نے تو رکھا ہے بھرم میرے جنوں کا... negative\n",
      "------------------------------\n",
      "خُوشبو سے مہکی ہوئی ہر شام جلا دی  \n",
      " لوگوں نے اِسی شغل میں اِک عمر گنوا دی  \n",
      "   \n",
      " ہونٹوں نے تو رکھا ہے بھرم میرے جنوں ... negative\n",
      "------------------------------\n",
      "UrduArt.Com - خُوشبو سے مہکی ہوئی ہر شام جلا دی: خُوشبو سے مہکی ہوئی ہر شام جلا دی  \n",
      " لوگوں نے اِسی شغل میں اِک عم... negative\n",
      "------------------------------\n",
      "شب وہ ان آنکھوں کو شغل اشکباری دے گئے positive\n"
     ]
    }
   ],
   "source": [
    "for t in text[:20]:\n",
    "    pos_score = 0\n",
    "    neg_score = 0\n",
    "    words = t.split()\n",
    "    for w in words:\n",
    "        if w in positive:\n",
    "            pos_score += 1\n",
    "        \n",
    "        if w in negative:\n",
    "            neg_score += 1\n",
    "    \n",
    "    print('---' * 10)\n",
    "    \n",
    "    if pos_score >= neg_score:\n",
    "        print(t.replace('<lb>', '\\n'), \"positive\")\n",
    "    else:\n",
    "        print(t.replace('<lb>', '\\n'), \"negative\")"
   ]
  },
  {
   "cell_type": "code",
   "execution_count": null,
   "metadata": {},
   "outputs": [],
   "source": []
  }
 ],
 "metadata": {
  "kernelspec": {
   "display_name": "Python 3",
   "language": "python",
   "name": "python3"
  },
  "language_info": {
   "codemirror_mode": {
    "name": "ipython",
    "version": 3
   },
   "file_extension": ".py",
   "mimetype": "text/x-python",
   "name": "python",
   "nbconvert_exporter": "python",
   "pygments_lexer": "ipython3",
   "version": "3.7.3"
  }
 },
 "nbformat": 4,
 "nbformat_minor": 2
}
